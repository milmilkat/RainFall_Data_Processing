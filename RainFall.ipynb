{
  "nbformat": 4,
  "nbformat_minor": 0,
  "metadata": {
    "colab": {
      "name": "RainFall.ipynb",
      "provenance": [],
      "collapsed_sections": []
    },
    "kernelspec": {
      "name": "python3",
      "display_name": "Python 3"
    }
  },
  "cells": [
    {
      "cell_type": "code",
      "metadata": {
        "id": "b1qz-tPsMCpF",
        "colab_type": "code",
        "outputId": "97404b38-13b5-4ed4-fa29-b666b34a910b",
        "colab": {
          "base_uri": "https://localhost:8080/",
          "height": 34
        }
      },
      "source": [
        "from google.colab import drive\n",
        "drive.mount('/content/gdrive/', force_remount= True)"
      ],
      "execution_count": 1,
      "outputs": [
        {
          "output_type": "stream",
          "text": [
            "Mounted at /content/gdrive/\n"
          ],
          "name": "stdout"
        }
      ]
    },
    {
      "cell_type": "code",
      "metadata": {
        "id": "YR50huR5MT16",
        "colab_type": "code",
        "colab": {}
      },
      "source": [
        "import os\n",
        "os.chdir('gdrive/My Drive/Colab Notebooks/RainFall')"
      ],
      "execution_count": 0,
      "outputs": []
    },
    {
      "cell_type": "code",
      "metadata": {
        "id": "fNQPJHDWMiSw",
        "colab_type": "code",
        "outputId": "5ad2c3f9-eb32-4922-a9b9-d34064d83353",
        "colab": {
          "base_uri": "https://localhost:8080/",
          "height": 34
        }
      },
      "source": [
        "ls"
      ],
      "execution_count": 3,
      "outputs": [
        {
          "output_type": "stream",
          "text": [
            "accumRainfall.csv  \u001b[0m\u001b[01;34m__pycache__\u001b[0m/  RainFall.ipynb  utils.py\n"
          ],
          "name": "stdout"
        }
      ]
    },
    {
      "cell_type": "markdown",
      "metadata": {
        "id": "fipFv9qEQTMe",
        "colab_type": "text"
      },
      "source": [
        "#Assumptions\n",
        "The data is observed rainfall from pennsylvania. The metric for rainfall in United States is measured by inches. The data is measured in irregular times. The other times that the data is not recorded considered to be dry days and the value for them considered to be zero. To just save the peak 30 minutes data, simply call the save_peak_data with the peak value (top) to save the peaked values in a csv file at the destination."
      ]
    },
    {
      "cell_type": "markdown",
      "metadata": {
        "id": "lPyUOnzNF3_6",
        "colab_type": "text"
      },
      "source": [
        "# Importing Libraries\n",
        "The importing is happening in the utils file"
      ]
    },
    {
      "cell_type": "code",
      "metadata": {
        "id": "56O2hZp0MjHI",
        "colab_type": "code",
        "colab": {}
      },
      "source": [
        "import utils"
      ],
      "execution_count": 0,
      "outputs": []
    },
    {
      "cell_type": "markdown",
      "metadata": {
        "id": "Dr0VqJR_F9Yg",
        "colab_type": "text"
      },
      "source": [
        "# Loading Data\n",
        "The loading function data takes caring different type of loading data including SQL or loading from API of another source. Other types of data can be defined in the load_data method by adding new conditions to the method. If the source is not defined, it will throw an exception error."
      ]
    },
    {
      "cell_type": "code",
      "metadata": {
        "id": "v0VhayUkMrjI",
        "colab_type": "code",
        "colab": {}
      },
      "source": [
        "data = utils.load_data('accumRainfall.csv')"
      ],
      "execution_count": 0,
      "outputs": []
    },
    {
      "cell_type": "markdown",
      "metadata": {
        "id": "5EReOPxzVDNe",
        "colab_type": "text"
      },
      "source": [
        "#Plotting the data\n",
        "The function show_data takes care of plotting and shoing the table of the data. There is a variable called show_table which by default is set to be true,. If it gets to be set as false, the table will not be shown. There is also another varibale called show_plot which is true by default and can be turned into false to avoid plotting."
      ]
    },
    {
      "cell_type": "code",
      "metadata": {
        "id": "0fblW5vv5cwH",
        "colab_type": "code",
        "outputId": "eb58d803-6299-40e1-b58c-d813e95c2d3b",
        "colab": {
          "base_uri": "https://localhost:8080/",
          "height": 1000
        }
      },
      "source": [
        "utils.show_data(data, show_table=True)"
      ],
      "execution_count": 6,
      "outputs": [
        {
          "output_type": "stream",
          "text": [
            "+---------------------+----------------+\n",
            "|    time(datetime)   | rainfall(inch) |\n",
            "+---------------------+----------------+\n",
            "| 2016-01-08 00:00:00 |      0.23      |\n",
            "| 2016-01-09 00:00:00 |      0.05      |\n",
            "| 2016-01-10 00:00:00 |      0.74      |\n",
            "| 2016-01-14 00:00:00 |      0.12      |\n",
            "| 2016-01-15 00:00:00 |      0.1       |\n",
            "| 2016-01-16 00:00:00 |      0.07      |\n",
            "| 2016-01-25 00:00:00 |      0.07      |\n",
            "| 2016-01-30 00:00:00 |      0.02      |\n",
            "| 2016-02-01 00:00:00 |      0.06      |\n",
            "| 2016-02-03 00:00:00 |      0.49      |\n",
            "| 2016-02-08 00:00:00 |      0.03      |\n",
            "| 2016-02-09 00:00:00 |      0.01      |\n",
            "| 2016-02-15 00:00:00 |      0.4       |\n",
            "| 2016-02-16 00:00:00 |      1.29      |\n",
            "| 2016-02-18 00:00:00 |      0.01      |\n",
            "| 2016-02-24 00:00:00 |      1.29      |\n",
            "| 2016-02-25 00:00:00 |      0.11      |\n",
            "| 2016-02-29 00:00:00 |      0.11      |\n",
            "| 2016-03-01 00:00:00 |      0.29      |\n",
            "| 2016-03-02 00:00:00 |      0.01      |\n",
            "| 2016-03-04 00:00:00 |      0.11      |\n",
            "| 2016-03-10 00:00:00 |      0.52      |\n",
            "| 2016-03-11 00:00:00 |      0.12      |\n",
            "| 2016-03-13 00:00:00 |      0.27      |\n",
            "| 2016-03-14 00:00:00 |      0.36      |\n",
            "| 2016-03-15 00:00:00 |      0.01      |\n",
            "| 2016-03-19 00:00:00 |      0.03      |\n",
            "| 2016-03-20 00:00:00 |      0.01      |\n",
            "| 2016-03-21 00:00:00 |      0.05      |\n",
            "| 2016-03-24 00:00:00 |      0.07      |\n",
            "| 2016-03-25 00:00:00 |      0.16      |\n",
            "| 2016-03-28 00:00:00 |      0.32      |\n",
            "| 2016-03-29 00:00:00 |      0.01      |\n",
            "| 2016-04-01 00:00:00 |      0.04      |\n",
            "| 2016-04-02 00:00:00 |      0.19      |\n",
            "| 2016-04-03 00:00:00 |      0.01      |\n",
            "| 2016-04-04 00:00:00 |      0.17      |\n",
            "| 2016-04-07 00:00:00 |      0.45      |\n",
            "| 2016-04-08 00:00:00 |      0.04      |\n",
            "| 2016-04-09 00:00:00 |      0.1       |\n",
            "| 2016-04-10 00:00:00 |      0.01      |\n",
            "| 2016-04-11 00:00:00 |      0.62      |\n",
            "| 2016-04-12 00:00:00 |      0.04      |\n",
            "| 2016-04-22 00:00:00 |      0.17      |\n",
            "| 2016-04-23 00:00:00 |      0.01      |\n",
            "| 2016-04-26 00:00:00 |      0.18      |\n",
            "| 2016-04-28 00:00:00 |      0.31      |\n",
            "| 2016-04-30 00:00:00 |      0.13      |\n",
            "| 2016-05-01 00:00:00 |      0.35      |\n",
            "| 2016-05-02 00:00:00 |      0.64      |\n",
            "| 2016-05-04 00:00:00 |      0.1       |\n",
            "| 2016-05-05 00:00:00 |      0.14      |\n",
            "| 2016-05-06 00:00:00 |      0.03      |\n",
            "| 2016-05-07 00:00:00 |      0.03      |\n",
            "| 2016-05-08 00:00:00 |      0.02      |\n",
            "| 2016-05-10 00:00:00 |      0.4       |\n",
            "| 2016-05-11 00:00:00 |      0.01      |\n",
            "| 2016-05-12 00:00:00 |      0.52      |\n",
            "| 2016-05-13 00:00:00 |      0.17      |\n",
            "| 2016-05-14 00:00:00 |      0.37      |\n",
            "| 2016-05-18 00:00:00 |      0.3       |\n",
            "| 2016-05-20 00:00:00 |      0.02      |\n",
            "| 2016-05-21 00:00:00 |      1.17      |\n",
            "| 2016-05-22 00:00:00 |      0.36      |\n",
            "| 2016-05-23 00:00:00 |      0.01      |\n",
            "| 2016-05-29 00:00:00 |      0.55      |\n",
            "| 2016-06-02 00:00:00 |      0.1       |\n",
            "| 2016-06-03 00:00:00 |      0.48      |\n",
            "| 2016-06-05 00:00:00 |      0.17      |\n",
            "| 2016-06-06 00:00:00 |      0.34      |\n",
            "| 2016-06-15 00:00:00 |      0.21      |\n",
            "| 2016-06-16 00:00:00 |      1.73      |\n",
            "| 2016-06-17 00:00:00 |      0.04      |\n",
            "| 2016-06-23 00:00:00 |      0.57      |\n",
            "| 2016-07-01 00:00:00 |      0.23      |\n",
            "| 2016-07-04 00:00:00 |      0.13      |\n",
            "| 2016-07-05 00:00:00 |      0.11      |\n",
            "| 2016-07-06 00:00:00 |      0.31      |\n",
            "| 2016-07-07 00:00:00 |      0.1       |\n",
            "| 2016-07-14 00:00:00 |      0.21      |\n",
            "| 2016-07-18 00:00:00 |      0.01      |\n",
            "| 2016-07-22 00:00:00 |      0.83      |\n",
            "| 2016-07-23 00:00:00 |      0.41      |\n",
            "| 2016-07-24 00:00:00 |      0.4       |\n",
            "| 2016-07-28 00:00:00 |      0.51      |\n",
            "| 2016-07-29 00:00:00 |      0.01      |\n",
            "| 2016-07-30 00:00:00 |      1.07      |\n",
            "| 2016-08-01 00:00:00 |      0.52      |\n",
            "| 2016-08-06 00:00:00 |      0.28      |\n",
            "| 2016-08-09 00:00:00 |      0.03      |\n",
            "| 2016-08-10 00:00:00 |      0.66      |\n",
            "+---------------------+----------------+\n"
          ],
          "name": "stdout"
        },
        {
          "output_type": "display_data",
          "data": {
            "image/png": "[encoded data removed]",
            "text/plain": [
              "<Figure size 2160x648 with 1 Axes>"
            ]
          },
          "metadata": {
            "tags": []
          }
        }
      ]
    },
    {
      "cell_type": "markdown",
      "metadata": {
        "id": "aBWF-Bf7Zwnb",
        "colab_type": "text"
      },
      "source": [
        "#Finding peak\n",
        "The same show_data function can be used to show the peak data. If in the show_data function, the variable with_top set to be true, it will consider showing the table of the data that are on peak percentile and also plots the data with different colours which red shows the data that are above the peak value. By default the peak value defined as \"top\" has been set to be 0.5 which is the 30 minutes in the case of this question. (30 minutes is the half or 0.5 percentile of 1 hour)."
      ]
    },
    {
      "cell_type": "code",
      "metadata": {
        "id": "i3lN3w4Sn6rh",
        "colab_type": "code",
        "outputId": "d5a733f4-0a39-4a4a-d6a0-855f3ec85391",
        "colab": {
          "base_uri": "https://localhost:8080/",
          "height": 1000
        }
      },
      "source": [
        "utils.show_data(data, with_top=True, top= 0.5)"
      ],
      "execution_count": 7,
      "outputs": [
        {
          "output_type": "stream",
          "text": [
            "+---------------------+----------------+\n",
            "|    time(datetime)   | rainfall(inch) |\n",
            "+---------------------+----------------+\n",
            "| 2016-01-08 00:00:00 |      0.23      |\n",
            "| 2016-01-10 00:00:00 |      0.74      |\n",
            "| 2016-02-03 00:00:00 |      0.49      |\n",
            "| 2016-02-15 00:00:00 |      0.4       |\n",
            "| 2016-02-16 00:00:00 |      1.29      |\n",
            "| 2016-02-24 00:00:00 |      1.29      |\n",
            "| 2016-03-01 00:00:00 |      0.29      |\n",
            "| 2016-03-10 00:00:00 |      0.52      |\n",
            "| 2016-03-13 00:00:00 |      0.27      |\n",
            "| 2016-03-14 00:00:00 |      0.36      |\n",
            "| 2016-03-25 00:00:00 |      0.16      |\n",
            "| 2016-03-28 00:00:00 |      0.32      |\n",
            "| 2016-04-02 00:00:00 |      0.19      |\n",
            "| 2016-04-04 00:00:00 |      0.17      |\n",
            "| 2016-04-07 00:00:00 |      0.45      |\n",
            "| 2016-04-11 00:00:00 |      0.62      |\n",
            "| 2016-04-22 00:00:00 |      0.17      |\n",
            "| 2016-04-26 00:00:00 |      0.18      |\n",
            "| 2016-04-28 00:00:00 |      0.31      |\n",
            "| 2016-05-01 00:00:00 |      0.35      |\n",
            "| 2016-05-02 00:00:00 |      0.64      |\n",
            "| 2016-05-10 00:00:00 |      0.4       |\n",
            "| 2016-05-12 00:00:00 |      0.52      |\n",
            "| 2016-05-13 00:00:00 |      0.17      |\n",
            "| 2016-05-14 00:00:00 |      0.37      |\n",
            "| 2016-05-18 00:00:00 |      0.3       |\n",
            "| 2016-05-21 00:00:00 |      1.17      |\n",
            "| 2016-05-22 00:00:00 |      0.36      |\n",
            "| 2016-05-29 00:00:00 |      0.55      |\n",
            "| 2016-06-03 00:00:00 |      0.48      |\n",
            "| 2016-06-05 00:00:00 |      0.17      |\n",
            "| 2016-06-06 00:00:00 |      0.34      |\n",
            "| 2016-06-15 00:00:00 |      0.21      |\n",
            "| 2016-06-16 00:00:00 |      1.73      |\n",
            "| 2016-06-23 00:00:00 |      0.57      |\n",
            "| 2016-07-01 00:00:00 |      0.23      |\n",
            "| 2016-07-06 00:00:00 |      0.31      |\n",
            "| 2016-07-14 00:00:00 |      0.21      |\n",
            "| 2016-07-22 00:00:00 |      0.83      |\n",
            "| 2016-07-23 00:00:00 |      0.41      |\n",
            "| 2016-07-24 00:00:00 |      0.4       |\n",
            "| 2016-07-28 00:00:00 |      0.51      |\n",
            "| 2016-07-30 00:00:00 |      1.07      |\n",
            "| 2016-08-01 00:00:00 |      0.52      |\n",
            "| 2016-08-06 00:00:00 |      0.28      |\n",
            "| 2016-08-10 00:00:00 |      0.66      |\n",
            "+---------------------+----------------+\n"
          ],
          "name": "stdout"
        },
        {
          "output_type": "display_data",
          "data": {
            "image/png": "[encoded data removed]",
            "text/plain": [
              "<Figure size 2160x648 with 1 Axes>"
            ]
          },
          "metadata": {
            "tags": []
          }
        }
      ]
    },
    {
      "cell_type": "markdown",
      "metadata": {
        "id": "PfyA6gS6YIQi",
        "colab_type": "text"
      },
      "source": [
        "#Saving the peak data\n",
        "peak data can be saved with the method save_data with the given value for the percentile of the peak required by the user. The address should be entered into the variable address, unles the default value is the same address as this file with the name of output.csv"
      ]
    },
    {
      "cell_type": "code",
      "metadata": {
        "id": "Li2btWreYWgZ",
        "colab_type": "code",
        "colab": {}
      },
      "source": [
        "utils.save_data(data)"
      ],
      "execution_count": 0,
      "outputs": []
    },
    {
      "cell_type": "markdown",
      "metadata": {
        "id": "_L4Nid_DTrzY",
        "colab_type": "text"
      },
      "source": [
        "# De-Accumulating the data\n",
        "De-accumulating is the process of showing the not recorded data. In the RainFall dataset, the days that re not recorded are considered to be dry days and the value of RainFall is considered to be 0.0 inches for them."
      ]
    },
    {
      "cell_type": "code",
      "metadata": {
        "id": "xvpVNv5aOUN2",
        "colab_type": "code",
        "colab": {}
      },
      "source": [
        "data = utils.de_accumulate(data)"
      ],
      "execution_count": 0,
      "outputs": []
    },
    {
      "cell_type": "markdown",
      "metadata": {
        "id": "vqC_QzkzIMQy",
        "colab_type": "text"
      },
      "source": [
        "#Plotting the de-accumulated data\n",
        "Since de-accumulation will set many values to be zero, then each percentile will hold more values and the median of 30 minutes will be zero and the calculation of the values which was supposed to be on observed time not the values not observed, it will hold wrong values; however, in case of any sensible information the plotting has been done."
      ]
    },
    {
      "cell_type": "code",
      "metadata": {
        "id": "Fk3FndeB486t",
        "colab_type": "code",
        "outputId": "260813cb-ec4a-4fb2-ba77-272e41fc9b05",
        "colab": {
          "base_uri": "https://localhost:8080/",
          "height": 682
        }
      },
      "source": [
        "utils.show_data(data, show_table=True, with_top=True, top= 0.99)"
      ],
      "execution_count": 10,
      "outputs": [
        {
          "output_type": "stream",
          "text": [
            "+---------------------+----------------+\n",
            "|    time(datetime)   | rainfall(inch) |\n",
            "+---------------------+----------------+\n",
            "| 2016-02-16 00:00:00 |      1.29      |\n",
            "| 2016-02-24 00:00:00 |      1.29      |\n",
            "| 2016-06-16 00:00:00 |      1.73      |\n",
            "+---------------------+----------------+\n"
          ],
          "name": "stdout"
        },
        {
          "output_type": "display_data",
          "data": {
            "image/png": "[encoded data removed]",
            "text/plain": [
              "<Figure size 2160x648 with 1 Axes>"
            ]
          },
          "metadata": {
            "tags": []
          }
        }
      ]
    },
    {
      "cell_type": "markdown",
      "metadata": {
        "id": "OeSs3fweOaY8",
        "colab_type": "text"
      },
      "source": [
        "# Incremental values\n",
        "Increamental can be ready extended to this project. Considering a case when one more hour of data is added to this data and oeak 30 minutes of that data also required that can be done with the same way as this project. Afterwards, since the total recorded data will consist of 30 minutes peak of the this test data and 30 minutes of the second received data, the algorith without any additional data needs to be applied to the accumulated data to find the peak 30 minutes."
      ]
    }
  ]
}